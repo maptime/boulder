{
 "cells": [
  {
   "cell_type": "code",
   "execution_count": 2,
   "metadata": {
    "ExecuteTime": {
     "end_time": "2019-04-11T00:55:31.160803Z",
     "start_time": "2019-04-11T00:55:29.898134Z"
    },
    "cell_style": "split"
   },
   "outputs": [],
   "source": [
    "import json, shapely, fiona, os\n",
    "import seaborn as sns\n",
    "import pandas as pd\n",
    "import geopandas as gpd\n",
    "import networkx as nx\n",
    "import matplotlib.pyplot as plt\n",
    "\n",
    "%matplotlib inline"
   ]
  },
  {
   "cell_type": "code",
   "execution_count": 4,
   "metadata": {
    "ExecuteTime": {
     "end_time": "2019-04-11T00:55:54.405313Z",
     "start_time": "2019-04-11T00:55:49.396313Z"
    },
    "cell_style": "split"
   },
   "outputs": [
    {
     "name": "stdout",
     "output_type": "stream",
     "text": [
      "Found 45728 buildings\n"
     ]
    }
   ],
   "source": [
    "buildings = gpd.read_file('data/Building_Footprints.shp')\n",
    "print(\"Found {0} buildings\".format(len(buildings)))\n",
    "buildings.head(1);\n",
    "\n"
   ]
  },
  {
   "cell_type": "code",
   "execution_count": 6,
   "metadata": {
    "ExecuteTime": {
     "end_time": "2019-04-11T00:56:21.824219Z",
     "start_time": "2019-04-11T00:56:21.608868Z"
    }
   },
   "outputs": [
    {
     "data": {
      "text/html": [
       "<div>\n",
       "<style scoped>\n",
       "    .dataframe tbody tr th:only-of-type {\n",
       "        vertical-align: middle;\n",
       "    }\n",
       "\n",
       "    .dataframe tbody tr th {\n",
       "        vertical-align: top;\n",
       "    }\n",
       "\n",
       "    .dataframe thead th {\n",
       "        text-align: right;\n",
       "    }\n",
       "</style>\n",
       "<table border=\"1\" class=\"dataframe\">\n",
       "  <thead>\n",
       "    <tr style=\"text-align: right;\">\n",
       "      <th></th>\n",
       "      <th>OBJECTID</th>\n",
       "      <th>CREEK</th>\n",
       "      <th>MAPPING_ST</th>\n",
       "      <th>SHAPE_AREA</th>\n",
       "      <th>SHAPE_LEN</th>\n",
       "      <th>geometry</th>\n",
       "    </tr>\n",
       "  </thead>\n",
       "  <tbody>\n",
       "    <tr>\n",
       "      <th>0</th>\n",
       "      <td>1</td>\n",
       "      <td>Gregory Canyon Creek</td>\n",
       "      <td>Complete</td>\n",
       "      <td>2.105969e+06</td>\n",
       "      <td>33078.761777</td>\n",
       "      <td>POLYGON ((3060082.675777227 1246067.801150128,...</td>\n",
       "    </tr>\n",
       "    <tr>\n",
       "      <th>1</th>\n",
       "      <td>2</td>\n",
       "      <td>Sunshine Canyon Creek</td>\n",
       "      <td>Complete</td>\n",
       "      <td>1.128345e+06</td>\n",
       "      <td>25405.394518</td>\n",
       "      <td>POLYGON ((3058244.465214819 1249329.027567297,...</td>\n",
       "    </tr>\n",
       "    <tr>\n",
       "      <th>2</th>\n",
       "      <td>3</td>\n",
       "      <td>Boulder Slough</td>\n",
       "      <td>Complete</td>\n",
       "      <td>1.152517e+06</td>\n",
       "      <td>24891.760136</td>\n",
       "      <td>(POLYGON ((3064533.865365639 1249084.573987961...</td>\n",
       "    </tr>\n",
       "    <tr>\n",
       "      <th>3</th>\n",
       "      <td>4</td>\n",
       "      <td>Goose Creek</td>\n",
       "      <td>Complete</td>\n",
       "      <td>2.479010e+06</td>\n",
       "      <td>49036.323199</td>\n",
       "      <td>(POLYGON ((3065561.063770562 1253580.064996973...</td>\n",
       "    </tr>\n",
       "    <tr>\n",
       "      <th>4</th>\n",
       "      <td>5</td>\n",
       "      <td>Elmers Twomile Creek</td>\n",
       "      <td>Complete</td>\n",
       "      <td>1.441207e+05</td>\n",
       "      <td>4564.338099</td>\n",
       "      <td>(POLYGON ((3067065.181169137 1254926.188617051...</td>\n",
       "    </tr>\n",
       "  </tbody>\n",
       "</table>\n",
       "</div>"
      ],
      "text/plain": [
       "   OBJECTID                  CREEK MAPPING_ST    SHAPE_AREA     SHAPE_LEN  \\\n",
       "0         1   Gregory Canyon Creek   Complete  2.105969e+06  33078.761777   \n",
       "1         2  Sunshine Canyon Creek   Complete  1.128345e+06  25405.394518   \n",
       "2         3         Boulder Slough   Complete  1.152517e+06  24891.760136   \n",
       "3         4            Goose Creek   Complete  2.479010e+06  49036.323199   \n",
       "4         5   Elmers Twomile Creek   Complete  1.441207e+05   4564.338099   \n",
       "\n",
       "                                            geometry  \n",
       "0  POLYGON ((3060082.675777227 1246067.801150128,...  \n",
       "1  POLYGON ((3058244.465214819 1249329.027567297,...  \n",
       "2  (POLYGON ((3064533.865365639 1249084.573987961...  \n",
       "3  (POLYGON ((3065561.063770562 1253580.064996973...  \n",
       "4  (POLYGON ((3067065.181169137 1254926.188617051...  "
      ]
     },
     "execution_count": 6,
     "metadata": {},
     "output_type": "execute_result"
    }
   ],
   "source": [
    "flood_extent = gpd.read_file('data/Flood2013Extents.shp')\n",
    "flood_extent.head()"
   ]
  },
  {
   "cell_type": "code",
   "execution_count": 10,
   "metadata": {
    "ExecuteTime": {
     "end_time": "2019-04-11T00:57:41.230131Z",
     "start_time": "2019-04-11T00:57:23.942042Z"
    }
   },
   "outputs": [],
   "source": [
    "flood_extent = flood_extent.to_crs(buildings.crs)"
   ]
  },
  {
   "cell_type": "code",
   "execution_count": 12,
   "metadata": {
    "ExecuteTime": {
     "end_time": "2019-04-11T00:59:03.211642Z",
     "start_time": "2019-04-11T00:58:07.516778Z"
    }
   },
   "outputs": [],
   "source": [
    "flooded_buildings = gpd.sjoin(buildings, flood_extent)\n",
    "flooded_buildings.head()"
   ]
  },
  {
   "cell_type": "code",
   "execution_count": 16,
   "metadata": {
    "ExecuteTime": {
     "end_time": "2019-04-11T01:00:38.242154Z",
     "start_time": "2019-04-11T01:00:36.821538Z"
    }
   },
   "outputs": [
    {
     "name": "stdout",
     "output_type": "stream",
     "text": [
      "Now open http://townsendjennings.com/geo/?src=http://yetilabs.science/flooded_buildings.geojson\n"
     ]
    }
   ],
   "source": [
    "with open('/home/cc/www/flooded_buildings.geojson','w') as outFile:\n",
    "    outFile.write(flooded_buildings.to_json())\n",
    "print(\"Now open http://townsendjennings.com/geo/?src=http://yetilabs.science/flooded_buildings.geojson\")"
   ]
  },
  {
   "cell_type": "code",
   "execution_count": null,
   "metadata": {},
   "outputs": [],
   "source": []
  }
 ],
 "metadata": {
  "hide_input": false,
  "kernelspec": {
   "display_name": "Python 3",
   "language": "python",
   "name": "python3"
  },
  "language_info": {
   "codemirror_mode": {
    "name": "ipython",
    "version": 3
   },
   "file_extension": ".py",
   "mimetype": "text/x-python",
   "name": "python",
   "nbconvert_exporter": "python",
   "pygments_lexer": "ipython3",
   "version": "3.5.2"
  },
  "varInspector": {
   "cols": {
    "lenName": 16,
    "lenType": 16,
    "lenVar": 40
   },
   "kernels_config": {
    "python": {
     "delete_cmd_postfix": "",
     "delete_cmd_prefix": "del ",
     "library": "var_list.py",
     "varRefreshCmd": "print(var_dic_list())"
    },
    "r": {
     "delete_cmd_postfix": ") ",
     "delete_cmd_prefix": "rm(",
     "library": "var_list.r",
     "varRefreshCmd": "cat(var_dic_list()) "
    }
   },
   "types_to_exclude": [
    "module",
    "function",
    "builtin_function_or_method",
    "instance",
    "_Feature"
   ],
   "window_display": false
  }
 },
 "nbformat": 4,
 "nbformat_minor": 2
}
